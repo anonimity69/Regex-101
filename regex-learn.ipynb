{
 "cells": [
  {
   "cell_type": "code",
   "execution_count": 1,
   "metadata": {},
   "outputs": [],
   "source": [
    "import re"
   ]
  },
  {
   "cell_type": "code",
   "execution_count": 2,
   "metadata": {},
   "outputs": [
    {
     "data": {
      "text/plain": [
       "['9991116666', '(999)-333-7777']"
      ]
     },
     "execution_count": 2,
     "metadata": {},
     "output_type": "execute_result"
    }
   ],
   "source": [
    "text='''\n",
    "Elon musk's phone number is 9991116666, call him if you have any questions on dodgecoin. Tesla's revenue is 40 billion\n",
    "Tesla's CFO number (999)-333-7777\n",
    "'''\n",
    "pattern = '\\(\\d{3}\\)-\\d{3}-\\d{4}|\\d{10}'\n",
    "\n",
    "matches = re.findall(pattern, text)\n",
    "matches"
   ]
  },
  {
   "cell_type": "code",
   "execution_count": 6,
   "metadata": {},
   "outputs": [
    {
     "data": {
      "text/plain": [
       "['Overview', 'Summary of Significant Accounting Policies']"
      ]
     },
     "execution_count": 6,
     "metadata": {},
     "output_type": "execute_result"
    }
   ],
   "source": [
    "text = '''\n",
    "Note 1 – Overview\n",
    "Tesla, Inc. (“Tesla”, the “Company”, “we”, “us” or “our”) was incorporated in the State of Delaware on July 1, 2003. We design, develop, \n",
    "manufacture and sell high-performance fully electric vehicles and design, manufacture, install and sell solar energy generation and energy storage \n",
    "products. Our Chief Executive Officer, as the chief operating decision maker (“CODM”), organizes our company, manages resource allocations and \n",
    "measures performance among two operating and reportable segments: (i) automotive and (ii) energy generation and storage.\n",
    "Beginning in the first quarter of 2021, there has been a trend in many parts of the world of increasing availability and administration of vaccines \n",
    "against COVID-19, as well as an easing of restrictions on social, business, travel and government activities and functions. On the other hand, infection \n",
    "rates and regulations continue to fluctuate in various regions and there are ongoing global impacts resulting from the pandemic, including challenges \n",
    "and increases in costs for logistics and supply chains, such as increased port congestion, intermittent supplier delays and a shortfall of semiconductor \n",
    "supply. We have also previously been affected by temporary manufacturing closures, employment and compensation adjustments and impediments to \n",
    "administrative activities supporting our product deliveries and deployments.\n",
    "Note 2 – Summary of Significant Accounting Policies\n",
    "Unaudited Interim Financial Statements\n",
    "The consolidated balance sheet as of September 30, 2021, the consolidated statements of operations, the consolidated statements of \n",
    "comprehensive income, the consolidated statements of redeemable noncontrolling interests and equity for the three and nine months ended September \n",
    "30, 2021 and 2020 and the consolidated statements of cash flows for the nine months ended September 30, 2021 and 2020, as well as other information \n",
    "disclosed in the accompanying notes, are unaudited. The consolidated balance sheet as of December 31, 2020 was derived from the audited \n",
    "consolidated financial statements as of that date. The interim consolidated financial statements and the accompanying notes should be read in \n",
    "conjunction with the annual consolidated financial statements and the accompanying notes contained in our Annual Report on Form 10-K for the year \n",
    "ended December 31, 2020.\n",
    "The interim consolidated financial statements and the accompanying notes have been prepared on the same basis as the annual consolidated \n",
    "financial statements and, in the opinion of management, reflect all adjustments, which include only normal recurring adjustments, necessary for a fair \n",
    "statement of the results of operations for the periods presented. The consolidated results of operations for any interim period are not necessarily \n",
    "indicative of the results to be expected for the full year or for any other future years or interim periods.\n",
    "Use of Estimates\n",
    "The preparation of financial statements in conformity with U.S. generally accepted accounting principles (“GAAP”) requires management to \n",
    "make estimates and assumptions that affect the reported amounts of assets, liabilities, revenues, costs and expenses and related disclosures in the \n",
    "accompanying notes. \n",
    "Due to the COVID-19 pandemic, there has been uncertainty and disruption in the global economy and financial markets which could impact our \n",
    "estimates and assumptions. We have assessed the impact and are not aware of any specific events or circumstances that required an update to our \n",
    "estimates and assumptions or materially affected the carrying value of our assets or liabilities as of the date of issuance of this Quarterly Report on \n",
    "Form 10-Q. These estimates may change as new events occur and additional information is obtained. Actual results could differ materially from these \n",
    "estimates under different assumptions or conditions\n",
    "'''\n",
    "pattern = 'Note \\d{1} – ([^\\n]*)'\n",
    "matches = re.findall(pattern, text)\n",
    "matches"
   ]
  },
  {
   "cell_type": "code",
   "execution_count": null,
   "metadata": {},
   "outputs": [],
   "source": []
  }
 ],
 "metadata": {
  "kernelspec": {
   "display_name": ".venv",
   "language": "python",
   "name": "python3"
  },
  "language_info": {
   "codemirror_mode": {
    "name": "ipython",
    "version": 3
   },
   "file_extension": ".py",
   "mimetype": "text/x-python",
   "name": "python",
   "nbconvert_exporter": "python",
   "pygments_lexer": "ipython3",
   "version": "3.11.8"
  }
 },
 "nbformat": 4,
 "nbformat_minor": 2
}
